{
 "cells": [
  {
   "cell_type": "code",
   "execution_count": 48,
   "metadata": {},
   "outputs": [],
   "source": [
    "# ldpc_ber.py\n",
    "# Author: Mason del Rosario\n",
    "# Implement BER curve for (7,4,3) Hamming code\n",
    "\n",
    "# call libs\n",
    "import numpy as np\n",
    "import matplotlib.pyplot as plt\n",
    "import time\n",
    "from pyldpc import make_ldpc, encode, decode, get_message"
   ]
  },
  {
   "cell_type": "code",
   "execution_count": 98,
   "metadata": {},
   "outputs": [],
   "source": [
    "def timer_update(i,current,time_tot,tic_incr=500):\n",
    "    last = current\n",
    "    current = time.time()\n",
    "    t_diff = current-last\n",
    "    print('SNR: {:04.3f} - Iter: {} - Last {} iterations took {:03.2f}s'.format(snr,i+1,tic_incr,t_diff))\n",
    "    return time_tot + t_diff"
   ]
  },
  {
   "cell_type": "code",
   "execution_count": 70,
   "metadata": {},
   "outputs": [],
   "source": [
    "# parameters for LDPC code\n",
    "n = 18\n",
    "d_v = 3\n",
    "d_c = 6"
   ]
  },
  {
   "cell_type": "code",
   "execution_count": 72,
   "metadata": {},
   "outputs": [
    {
     "name": "stdout",
     "output_type": "stream",
     "text": [
      "-> code spec: (18,12,6)\n",
      "-> var deg: 3\n",
      "-> check deg: 6\n",
      "-> H:\n",
      " [[1 0 0 1 0 0 0 0 1 0 0 0 1 1 1 0 0 0]\n",
      " [0 0 0 0 0 0 0 0 0 0 0 0 0 0 0 1 0 0]\n",
      " [0 0 0 0 0 0 0 0 0 0 0 0 0 0 0 0 0 0]\n",
      " [0 0 0 0 0 0 0 1 0 1 1 1 0 0 1 0 1 0]\n",
      " [0 0 0 0 0 0 0 0 0 0 0 0 0 0 0 0 0 1]\n",
      " [0 0 0 0 0 0 0 0 0 0 0 0 0 0 0 0 0 0]\n",
      " [0 1 0 0 1 0 0 0 1 1 0 0 0 1 0 0 0 1]\n",
      " [0 0 0 0 0 0 0 0 0 0 0 0 0 0 0 0 1 0]\n",
      " [0 0 0 0 0 0 0 0 0 0 0 0 0 0 0 0 0 0]]\n",
      "-> G:\n",
      " [[1 0 0 0 0 0 0 0 0 0 0 0]\n",
      " [0 1 0 0 0 0 0 0 0 0 0 0]\n",
      " [0 0 1 0 0 0 0 0 0 0 0 0]\n",
      " [0 0 0 1 0 0 0 0 0 0 0 0]\n",
      " [0 0 0 0 1 0 0 0 0 0 0 0]\n",
      " [0 0 0 0 0 1 0 0 0 0 0 0]\n",
      " [0 0 0 0 0 0 1 0 0 0 0 0]\n",
      " [0 0 0 0 0 0 0 1 0 0 0 0]\n",
      " [0 0 0 0 0 0 0 0 1 0 0 0]\n",
      " [0 0 0 0 0 0 0 0 0 1 0 0]\n",
      " [0 0 0 0 0 0 0 0 0 0 1 0]\n",
      " [0 0 0 0 0 0 0 0 0 0 0 1]\n",
      " [1 1 0 1 1 0 0 1 0 0 1 1]\n",
      " [0 1 0 0 1 0 0 0 1 1 0 0]\n",
      " [0 0 0 0 0 0 0 1 0 1 1 1]\n",
      " [0 0 0 0 0 0 0 0 0 0 0 0]\n",
      " [0 0 0 0 0 0 0 0 0 0 0 0]\n",
      " [0 0 0 0 0 0 0 0 0 0 0 0]]\n"
     ]
    }
   ],
   "source": [
    "# construct parity check (H) and generator (G) matrices\n",
    "H, G = make_ldpc(n, d_v, d_c, systematic=True, sparse=True)\n",
    "k = G.shape[1]\n",
    "maxiter = 500\n",
    "print('-> code spec: ({},{},{})\\n-> var deg: {}\\n-> check deg: {}\\n-> H:\\n {}\\n-> G:\\n {}'.format(n,k,n-k,d_v,d_c,H,G))"
   ]
  },
  {
   "cell_type": "code",
   "execution_count": 100,
   "metadata": {},
   "outputs": [
    {
     "name": "stderr",
     "output_type": "stream",
     "text": [
      "C:\\Anaconda3\\lib\\site-packages\\pyldpc\\decoder.py:214: UserWarning: Decoding stopped before convergence. You may want\n",
      "                       to increase maxiter\n",
      "  to increase maxiter\"\"\")\n"
     ]
    },
    {
     "name": "stdout",
     "output_type": "stream",
     "text": [
      "SNR: 0.000 - Iter: 500 - Last 500 iterations took 15.01s\n",
      "SNR: 0.000 - Iter: 1000 - Last 500 iterations took 28.84s\n",
      "SNR: 0.000:\n",
      " -> BER: 0.83\n",
      " -> Total Time: 43.85s\n",
      "SNR: 0.500 - Iter: 500 - Last 500 iterations took 11.39s\n",
      "SNR: 0.500 - Iter: 1000 - Last 500 iterations took 23.81s\n",
      "SNR: 0.500:\n",
      " -> BER: 0.77\n",
      " -> Total Time: 35.20s\n",
      "SNR: 1.000 - Iter: 500 - Last 500 iterations took 10.71s\n",
      "SNR: 1.000 - Iter: 1000 - Last 500 iterations took 21.67s\n",
      "SNR: 1.000:\n",
      " -> BER: 0.71\n",
      " -> Total Time: 32.38s\n",
      "SNR: 1.500 - Iter: 500 - Last 500 iterations took 8.78s\n",
      "SNR: 1.500 - Iter: 1000 - Last 500 iterations took 18.48s\n",
      "SNR: 1.500:\n",
      " -> BER: 0.67\n",
      " -> Total Time: 27.26s\n",
      "SNR: 2.000 - Iter: 500 - Last 500 iterations took 7.55s\n",
      "SNR: 2.000 - Iter: 1000 - Last 500 iterations took 15.04s\n",
      "SNR: 2.000:\n",
      " -> BER: 0.62\n",
      " -> Total Time: 22.60s\n",
      "SNR: 2.500 - Iter: 500 - Last 500 iterations took 6.52s\n",
      "SNR: 2.500 - Iter: 1000 - Last 500 iterations took 15.19s\n",
      "SNR: 2.500:\n",
      " -> BER: 0.53\n",
      " -> Total Time: 21.70s\n",
      "SNR: 3.000 - Iter: 500 - Last 500 iterations took 5.18s\n",
      "SNR: 3.000 - Iter: 1000 - Last 500 iterations took 10.42s\n",
      "SNR: 3.000:\n",
      " -> BER: 0.43\n",
      " -> Total Time: 15.60s\n",
      "SNR: 3.500 - Iter: 500 - Last 500 iterations took 3.86s\n",
      "SNR: 3.500 - Iter: 1000 - Last 500 iterations took 8.00s\n",
      "SNR: 3.500:\n",
      " -> BER: 0.36\n",
      " -> Total Time: 11.87s\n",
      "SNR: 4.000 - Iter: 500 - Last 500 iterations took 3.02s\n",
      "SNR: 4.000 - Iter: 1000 - Last 500 iterations took 5.69s\n",
      "SNR: 4.000:\n",
      " -> BER: 0.29\n",
      " -> Total Time: 8.71s\n",
      "SNR: 4.500 - Iter: 500 - Last 500 iterations took 1.92s\n",
      "SNR: 4.500 - Iter: 1000 - Last 500 iterations took 4.09s\n",
      "SNR: 4.500:\n",
      " -> BER: 0.24\n",
      " -> Total Time: 6.02s\n",
      "SNR: 5.000 - Iter: 500 - Last 500 iterations took 1.66s\n",
      "SNR: 5.000 - Iter: 1000 - Last 500 iterations took 3.13s\n",
      "SNR: 5.000:\n",
      " -> BER: 0.16\n",
      " -> Total Time: 4.79s\n",
      "SNR: 5.500 - Iter: 500 - Last 500 iterations took 1.43s\n",
      "SNR: 5.500 - Iter: 1000 - Last 500 iterations took 2.95s\n",
      "SNR: 5.500:\n",
      " -> BER: 0.13\n",
      " -> Total Time: 4.39s\n",
      "SNR: 6.000 - Iter: 500 - Last 500 iterations took 1.40s\n",
      "SNR: 6.000 - Iter: 1000 - Last 500 iterations took 2.71s\n",
      "SNR: 6.000:\n",
      " -> BER: 0.09\n",
      " -> Total Time: 4.11s\n",
      "SNR: 6.500 - Iter: 500 - Last 500 iterations took 1.44s\n",
      "SNR: 6.500 - Iter: 1000 - Last 500 iterations took 2.54s\n",
      "SNR: 6.500:\n",
      " -> BER: 0.07\n",
      " -> Total Time: 3.98s\n",
      "SNR: 7.000 - Iter: 500 - Last 500 iterations took 1.10s\n",
      "SNR: 7.000 - Iter: 1000 - Last 500 iterations took 1.96s\n",
      "SNR: 7.000:\n",
      " -> BER: 0.04\n",
      " -> Total Time: 3.06s\n",
      "SNR: 7.500 - Iter: 500 - Last 500 iterations took 0.75s\n",
      "SNR: 7.500 - Iter: 1000 - Last 500 iterations took 1.42s\n",
      "SNR: 7.500:\n",
      " -> BER: 0.03\n",
      " -> Total Time: 2.16s\n",
      "SNR: 8.000 - Iter: 500 - Last 500 iterations took 0.67s\n",
      "SNR: 8.000 - Iter: 1000 - Last 500 iterations took 1.26s\n",
      "SNR: 8.000:\n",
      " -> BER: 0.01\n",
      " -> Total Time: 1.93s\n",
      "SNR: 8.500 - Iter: 500 - Last 500 iterations took 0.59s\n",
      "SNR: 8.500 - Iter: 1000 - Last 500 iterations took 1.36s\n",
      "SNR: 8.500:\n",
      " -> BER: 0.01\n",
      " -> Total Time: 1.95s\n",
      "SNR: 9.000 - Iter: 500 - Last 500 iterations took 0.51s\n",
      "SNR: 9.000 - Iter: 1000 - Last 500 iterations took 1.10s\n",
      "SNR: 9.000:\n",
      " -> BER: 0.01\n",
      " -> Total Time: 1.61s\n",
      "SNR: 9.500 - Iter: 500 - Last 500 iterations took 0.78s\n",
      "SNR: 9.500 - Iter: 1000 - Last 500 iterations took 1.38s\n",
      "SNR: 9.500:\n",
      " -> BER: 0.01\n",
      " -> Total Time: 2.16s\n"
     ]
    }
   ],
   "source": [
    "# encode/decode messages for different SNR vals\n",
    "mess_num = int(1e3)\n",
    "v = np.random.randint(2, size=(mess_num,k))\n",
    "min_snr = .1\n",
    "max_snr = 1\n",
    "N = 15\n",
    "snrs = np.logspace(min_snr,max_snr, N, endpoint=True)\n",
    "snrs = np.arange(0,10**max_snr,0.5)\n",
    "errs = np.array(())\n",
    "times = np.array(())\n",
    "for snr in snrs:\n",
    "    print\n",
    "    err_num = 0\n",
    "    time_tot = 0\n",
    "    current = time.time()\n",
    "    for i in range(mess_num):\n",
    "        v_i = v[i,:]\n",
    "        y = encode(G, v_i, snr)\n",
    "        d = decode(H, y, snr, maxiter)\n",
    "        x = get_message(G, d)\n",
    "        if abs(x-v_i).sum() != 0 :\n",
    "            err_num = err_num + 1\n",
    "        if (i+1) % tic_incr == 0:\n",
    "            time_tot = timer_update(i,current,time_tot)\n",
    "    err = float(err_num)/mess_num\n",
    "    print('SNR: {:04.3f}:\\n -> BER: {:03.2f}\\n -> Total Time: {:03.2f}s'.format(snr,err,time_tot))\n",
    "    errs=np.append(errs,err)\n",
    "    times=np.append(times,time_tot)"
   ]
  },
  {
   "cell_type": "code",
   "execution_count": 102,
   "metadata": {},
   "outputs": [
    {
     "data": {
      "image/png": "[encoded data removed]",
      "text/plain": [
       "<Figure size 576x432 with 2 Axes>"
      ]
     },
     "metadata": {},
     "output_type": "display_data"
    }
   ],
   "source": [
    "# plot results\n",
    "fig, (ax1,ax2) = plt.subplots(2,1,figsize=(8,6))\n",
    "ax1.semilogy(snrs,errs,'o-') # plot BER vs SNR\n",
    "ax1.set_ylabel('BER')\n",
    "ax1.set_title('Regular LDPC ({},{},{})'.format(n,k,n-k))\n",
    "ax2.plot(snrs,times,'o-') # plot decode timing for different SNRs\n",
    "ax2.set_xlabel('$E_b/N_0$')\n",
    "ax2.set_ylabel('Decoding Time [s]')\n",
    "ax2.annotate('Total Runtime: {:03.2f}s'.format(np.sum(times)),\n",
    "            xy=(1, 0.35), xycoords='axes fraction',\n",
    "            xytext=(-20, 20), textcoords='offset pixels',\n",
    "            horizontalalignment='right',\n",
    "            verticalalignment='bottom')\n",
    "plt.show()\n",
    "plt.savefig('ldpc_ber_{}_{}.png'.format(n,k))"
   ]
  }
 ],
 "metadata": {
  "kernelspec": {
   "display_name": "Python 3",
   "language": "python",
   "name": "python3"
  },
  "language_info": {
   "codemirror_mode": {
    "name": "ipython",
    "version": 3
   },
   "file_extension": ".py",
   "mimetype": "text/x-python",
   "name": "python",
   "nbconvert_exporter": "python",
   "pygments_lexer": "ipython3",
   "version": "3.6.5"
  }
 },
 "nbformat": 4,
 "nbformat_minor": 2
}
